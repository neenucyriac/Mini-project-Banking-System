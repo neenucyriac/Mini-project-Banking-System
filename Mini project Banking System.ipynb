{
 "cells": [
  {
   "cell_type": "code",
   "execution_count": null,
   "id": "2c6a753e-f7d2-4281-897f-5cbc60eea157",
   "metadata": {},
   "outputs": [
    {
     "name": "stdin",
     "output_type": "stream",
     "text": [
      "Enter your account number:  000123456\n",
      "Enter your PIN:  1234\n"
     ]
    },
    {
     "name": "stdout",
     "output_type": "stream",
     "text": [
      "Login successful!\n",
      "\n",
      "1. Deposit\n",
      "2. Withdraw\n",
      "3. Display Balance\n",
      "4. Logout\n"
     ]
    },
    {
     "name": "stdin",
     "output_type": "stream",
     "text": [
      "Enter your choice:  1\n",
      "Enter amount to deposit:  20000\n"
     ]
    },
    {
     "name": "stdout",
     "output_type": "stream",
     "text": [
      "Deposited 20000.0 successfully. Current balance: 70000.0\n",
      "\n",
      "1. Deposit\n",
      "2. Withdraw\n",
      "3. Display Balance\n",
      "4. Logout\n"
     ]
    },
    {
     "name": "stdin",
     "output_type": "stream",
     "text": [
      "Enter your choice:  3\n"
     ]
    },
    {
     "name": "stdout",
     "output_type": "stream",
     "text": [
      "Account Balance for Neenu cyriac (000123456): 70000.0\n",
      "\n",
      "1. Deposit\n",
      "2. Withdraw\n",
      "3. Display Balance\n",
      "4. Logout\n"
     ]
    },
    {
     "name": "stdin",
     "output_type": "stream",
     "text": [
      "Enter your choice:  4\n"
     ]
    },
    {
     "name": "stdout",
     "output_type": "stream",
     "text": [
      "Logged out successfully.\n"
     ]
    },
    {
     "name": "stdin",
     "output_type": "stream",
     "text": [
      "Enter your account number:  7575757uty\n"
     ]
    },
    {
     "name": "stdout",
     "output_type": "stream",
     "text": [
      "Account not found. Please check your account number.\n"
     ]
    },
    {
     "name": "stdin",
     "output_type": "stream",
     "text": [
      "Enter your account number:  000123456\n",
      "Enter your PIN:  wrwe\n"
     ]
    },
    {
     "name": "stdout",
     "output_type": "stream",
     "text": [
      "Incorrect PIN. Please try again.\n"
     ]
    }
   ],
   "source": [
    "class BankAccount:\n",
    "    def __init__(self, name, account_number, balance=0):\n",
    "        self.name = name\n",
    "        self.account_number = account_number\n",
    "        self.balance = balance\n",
    "\n",
    "    def deposit(self, amount):\n",
    "        if amount > 0:\n",
    "            self.balance += amount\n",
    "            print(f\"Deposited {amount} successfully. Current balance: {self.balance}\")\n",
    "        else:\n",
    "            print(\"Invalid deposit amount.\")\n",
    "\n",
    "    def withdraw(self, amount):\n",
    "        if 0 < amount <= self.balance:\n",
    "            self.balance -= amount\n",
    "            print(f\"Withdrawn {amount} successfully. Current balance: {self.balance}\")\n",
    "        else:\n",
    "            print(\"Insufficient balance or invalid withdrawal amount.\")\n",
    "\n",
    "    def display_balance(self):\n",
    "        print(f\"Account Balance for {self.name} ({self.account_number}): {self.balance}\")\n",
    "\n",
    "\n",
    "def login(accounts):\n",
    "    account_number = input(\"Enter your account number: \")\n",
    "    if account_number in accounts:\n",
    "        pin = input(\"Enter your PIN: \")\n",
    "        if pin == accounts[account_number]['pin']:\n",
    "            print(\"Login successful!\")\n",
    "            return accounts[account_number]['account']\n",
    "        else:\n",
    "            print(\"Incorrect PIN. Please try again.\")\n",
    "            return None\n",
    "    else:\n",
    "        print(\"Account not found. Please check your account number.\")\n",
    "        return None\n",
    "\n",
    "\n",
    "def main():\n",
    "    accounts = {\n",
    "        '000123456': {'pin': '1234', 'account': BankAccount('Neenu cyriac', '000123456', 50000)},\n",
    "        '000123457': {'pin': '4321', 'account': BankAccount('Jane Smith', '000123457', 60000)}\n",
    "    }\n",
    "\n",
    "    logged_in_account = None\n",
    "\n",
    "    while not logged_in_account:\n",
    "        logged_in_account = login(accounts)\n",
    "\n",
    "    while True:\n",
    "        print(\"\\n1. Deposit\")\n",
    "        print(\"2. Withdraw\")\n",
    "        print(\"3. Display Balance\")\n",
    "        print(\"4. Logout\")\n",
    "\n",
    "        choice = input(\"Enter your choice: \")\n",
    "\n",
    "        if choice == '1':\n",
    "            amount = float(input(\"Enter amount to deposit: \"))\n",
    "            logged_in_account.deposit(amount)\n",
    "        elif choice == '2':\n",
    "            amount = float(input(\"Enter amount to withdraw: \"))\n",
    "            logged_in_account.withdraw(amount)\n",
    "        elif choice == '3':\n",
    "            logged_in_account.display_balance()\n",
    "        elif choice == '4':\n",
    "            print(\"Logged out successfully.\")\n",
    "            logged_in_account = None\n",
    "            while not logged_in_account:\n",
    "                logged_in_account = login(accounts)\n",
    "        else:\n",
    "            print(\"Invalid choice. Please try again.\")\n",
    "\n",
    "\n",
    "if __name__ == \"__main__\":\n",
    "    main()"
   ]
  },
  {
   "cell_type": "code",
   "execution_count": null,
   "id": "1f8ad743-f7c3-4c1a-8599-6ceab0ba82f7",
   "metadata": {},
   "outputs": [],
   "source": []
  },
  {
   "cell_type": "code",
   "execution_count": null,
   "id": "f19c9ced-0c91-44d7-a98c-4c4cb8f65766",
   "metadata": {},
   "outputs": [],
   "source": []
  }
 ],
 "metadata": {
  "kernelspec": {
   "display_name": "Python 3 (ipykernel)",
   "language": "python",
   "name": "python3"
  },
  "language_info": {
   "codemirror_mode": {
    "name": "ipython",
    "version": 3
   },
   "file_extension": ".py",
   "mimetype": "text/x-python",
   "name": "python",
   "nbconvert_exporter": "python",
   "pygments_lexer": "ipython3",
   "version": "3.11.7"
  }
 },
 "nbformat": 4,
 "nbformat_minor": 5
}
